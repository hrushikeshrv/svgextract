{
 "cells": [
  {
   "cell_type": "code",
   "execution_count": 4,
   "metadata": {},
   "outputs": [],
   "source": [
    "from bs4 import BeautifulSoup\n",
    "import requests\n",
    "import webbrowser\n",
    "import os"
   ]
  },
  {
   "cell_type": "code",
   "execution_count": 35,
   "metadata": {},
   "outputs": [],
   "source": [
    "class SVGExtractor():\n",
    "    def extract(self, page, file_name, open_html = True):\n",
    "        \"\"\"\n",
    "        Takes in the url to a page and extracts all the <svg> elements on the page.\n",
    "        \n",
    "        args-\n",
    "        page:str - The url to a page to extract <svg> elements from\n",
    "        file_name:str - The file name to save it as (without the extension, the script sets the extension as html automatically)\n",
    "        open_html:bool - Opens the extracted svgs in a browser if True\n",
    "        \"\"\"\n",
    "        #Get the page\n",
    "        print('Getting the page you requested')\n",
    "        response = requests.get(page)\n",
    "        #Check for errors\n",
    "        response.raise_for_status()\n",
    "        print('Page retrieved succesfully\\n')\n",
    "        \n",
    "        #Convert the reponse into a BeautifulSoup soup\n",
    "        html = BeautifulSoup(response.text)\n",
    "        #Select all the <svg> elements\n",
    "        svgs = html.select('svg')\n",
    "        #Convert each element in svgs from a bs4.element.Tag object to just a string to write to a file\n",
    "        svg_strings = [str(x) for x in svgs]\n",
    "        print('<svg>s extracted...\\n')\n",
    "        \n",
    "        #Define the metadata to write to the html file to add some styling\n",
    "        metadata = f\"\"\"\n",
    "            <html>\n",
    "                <head>\n",
    "                    <title>{file_name} - SVGExtractor</title>\n",
    "                    <style>\n",
    "                        html, body {{\n",
    "                            background-color: rgb(128, 128, 128);\n",
    "                            padding: 20px;\n",
    "                            display: flex;\n",
    "                            flex-flow: row wrap;\n",
    "                            justify-content: center;\n",
    "                            align-items: stretch;\n",
    "                        }}\n",
    "                        .svg-element {{\n",
    "                            padding: 20px;\n",
    "                            margin: 30px;\n",
    "                            border: 3px solid rgb(252, 173, 3);\n",
    "                            border-radius: 7px;\n",
    "                        }}\n",
    "                    </style>\n",
    "                </head>\n",
    "                <body>\n",
    "        \"\"\"\n",
    "        #Open a file\n",
    "        print(f'Writing to {file_name}.html')\n",
    "        with open(file_name + '.html', 'w') as file:\n",
    "            #Set the file up and add some styles\n",
    "            file.write(metadata)\n",
    "            #Write all the matched elements to the html file\n",
    "            for svg in svg_strings:\n",
    "                file.write('<div class=\"svg-element\">\\n')\n",
    "                file.write(svg)\n",
    "                file.write('</div>\\n')\n",
    "            file.write('</body></html>')\n",
    "        print('html file created')\n",
    "        if open_html:\n",
    "            print('Opening the created html file')\n",
    "            #Get the path\n",
    "            path = os.path.join(os.getcwd(), file_name + '.html')\n",
    "            #Open html file in the default browser\n",
    "            webbrowser.open(path)"
   ]
  },
  {
   "cell_type": "code",
   "execution_count": 48,
   "metadata": {},
   "outputs": [],
   "source": [
    "svg =  SVGExtractor()"
   ]
  },
  {
   "cell_type": "code",
   "execution_count": 49,
   "metadata": {},
   "outputs": [
    {
     "name": "stdout",
     "output_type": "stream",
     "text": [
      "Getting the page you requested\n",
      "Page retrieved succesfully\n",
      "\n",
      "<svg>s extracted...\n",
      "\n",
      "Writing to github_svgs.html\n",
      "html file created\n",
      "Opening the created html file\n"
     ]
    }
   ],
   "source": [
    "svg.extract('https://github.com/', 'github_svgs')"
   ]
  },
  {
   "cell_type": "code",
   "execution_count": null,
   "metadata": {},
   "outputs": [],
   "source": [
    "svg.extract('', '')"
   ]
  }
 ],
 "metadata": {
  "kernelspec": {
   "display_name": "Python 3",
   "language": "python",
   "name": "python3"
  },
  "language_info": {
   "codemirror_mode": {
    "name": "ipython",
    "version": 3
   },
   "file_extension": ".py",
   "mimetype": "text/x-python",
   "name": "python",
   "nbconvert_exporter": "python",
   "pygments_lexer": "ipython3",
   "version": "3.7.6"
  }
 },
 "nbformat": 4,
 "nbformat_minor": 4
}
